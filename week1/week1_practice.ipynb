{
 "cells": [
  {
   "cell_type": "code",
   "execution_count": 1,
   "id": "60f5729a",
   "metadata": {},
   "outputs": [],
   "source": [
    "import numpy as np\n",
    "import matplotlib.pyplot as plt\n",
    "import matplotlib"
   ]
  },
  {
   "cell_type": "code",
   "execution_count": 2,
   "id": "fa2e1627",
   "metadata": {},
   "outputs": [],
   "source": [
    "Stress = np.array([[90,0,95],[0,96,0],[95,0,-50]])"
   ]
  },
  {
   "cell_type": "code",
   "execution_count": 3,
   "id": "ff407881",
   "metadata": {},
   "outputs": [],
   "source": [
    "def eigen(Stress):\n",
    "    s,eigvector=np.linalg.eig(Stress)\n",
    "    s = np.absolute(s)\n",
    "    s1 = np.amax(s)\n",
    "    s3 = np.amin(s)\n",
    "    for i in s:\n",
    "        if i != s1 and i!= s3:\n",
    "            s2 = i\n",
    "    return s1,s2,s3"
   ]
  },
  {
   "cell_type": "code",
   "execution_count": 4,
   "id": "6a3ed4c6",
   "metadata": {},
   "outputs": [
    {
     "data": {
      "text/plain": [
       "(138.00423721205945, 98.00423721205946, 96.0)"
      ]
     },
     "execution_count": 4,
     "metadata": {},
     "output_type": "execute_result"
    }
   ],
   "source": [
    "eigen(Stress)"
   ]
  },
  {
   "cell_type": "code",
   "execution_count": 13,
   "id": "00bcc303",
   "metadata": {},
   "outputs": [],
   "source": [
    "def Mohr_circle(Stress):\n",
    "    s1,s2,s3=eigen(Stress)\n",
    "    c1 = (s1+s3)/2    \n",
    "    c2 = (s1+s2)/2\n",
    "    c3 = (s2+s3)/2\n",
    "    r1 = (s1-s3)/2\n",
    "    r2 = (s1-s2)/2\n",
    "    r3 = (s2-s3)/2\n",
    "    figure, axes = plt.subplots()\n",
    "    circle1 = plt.Circle( (c1, 0 ),r1 ,fill = False )\n",
    "    circle2 = plt.Circle( (c2, 0 ),r2 ,fill = False )\n",
    "    circle3 = plt.Circle( (c3, 0 ),r3 ,fill = False )\n",
    "    plt.xlim(-(6*s1/5),6*(s1)/5)\n",
    "    plt.ylim(-(6*s1/5),6*(s1)/5)\n",
    "    axes.set_aspect(1)\n",
    "    axes.add_artist(circle1)\n",
    "    axes.add_artist(circle2)\n",
    "    axes.add_artist(circle3)\n",
    "    plt.grid()\n",
    "    plt.savefig('Mohr.png')"
   ]
  },
  {
   "cell_type": "code",
   "execution_count": 14,
   "id": "676a3606",
   "metadata": {},
   "outputs": [
    {
     "data": {
      "image/png": "[encoded data removed]",
      "text/plain": [
       "<Figure size 432x288 with 1 Axes>"
      ]
     },
     "metadata": {
      "needs_background": "light"
     },
     "output_type": "display_data"
    }
   ],
   "source": [
    "Mohr_circle(Stress)"
   ]
  },
  {
   "cell_type": "code",
   "execution_count": 7,
   "id": "4968e8fd",
   "metadata": {},
   "outputs": [],
   "source": [
    "import numpy as np\n",
    "import matplotlib.pyplot as plt\n",
    "from numpy.linalg import eigvalsh\n",
    "from matplotlib import rcParams\n",
    " \n",
    "rcParams['font.family'] = 'serif'\n",
    "rcParams['font.size'] = 16\n"
   ]
  },
  {
   "cell_type": "code",
   "execution_count": 8,
   "id": "002ee3fc",
   "metadata": {},
   "outputs": [],
   "source": [
    "\n",
    "class mohr():\n",
    "    def __init__(self):\n",
    "        pass \n",
    "    def plot_mohr3d(self, S):\n",
    "        def eigen(Stress):\n",
    "            s,eigvector=np.linalg.eig(Stress)\n",
    "            s = np.absolute(s)\n",
    "            s1 = np.amax(s)\n",
    "            s3 = np.amin(s)\n",
    "            for i in s:\n",
    "                if i != s1 and i!= s3:\n",
    "                    s2 = i\n",
    "            return s3,s2,s1\n",
    "\n",
    "        def Radius(s3,s2,s1):\n",
    "            cent_maj = (s1+s3)/2    \n",
    "            c2 = (s1+s2)/2\n",
    "            c3 = (s2+s3)/2\n",
    "            R_maj = (s1-s3)/2\n",
    "            r2 = (s1-s2)/2\n",
    "            r3 = (s2-s3)/2\n",
    "            if r2>r3:\n",
    "                R_min = r3\n",
    "                cent_min = c3\n",
    "                R_mid = r2\n",
    "                cent_mid = r2\n",
    "            else:\n",
    "                R_min = r2\n",
    "                cent_min = c2\n",
    "                R_mid = r3\n",
    "                cent_mid = c3\n",
    "            return R_maj, R_min, R_mid \n",
    "        s3,s2,s1 = eigen(S)\n",
    "        R_maj, R_min, R_mid = Radius(s3,s2,s1)\n",
    "        return R_maj, R_min, R_mid\n"
   ]
  },
  {
   "cell_type": "code",
   "execution_count": 9,
   "id": "cbde4504",
   "metadata": {},
   "outputs": [
    {
     "data": {
      "text/plain": [
       "(21.002118606029725, 1.0021186060297325, 19.999999999999993)"
      ]
     },
     "execution_count": 9,
     "metadata": {},
     "output_type": "execute_result"
    }
   ],
   "source": [
    "mohr1 = mohr()\n",
    "mohr1.plot_mohr3d(Stress)"
   ]
  },
  {
   "cell_type": "code",
   "execution_count": 12,
   "id": "f0630e6f",
   "metadata": {},
   "outputs": [
    {
     "data": {
      "text/plain": [
       "[<matplotlib.lines.Line2D at 0x109908c40>]"
      ]
     },
     "execution_count": 12,
     "metadata": {},
     "output_type": "execute_result"
    },
    {
     "data": {
      "image/png": "[encoded data removed]",
      "text/plain": [
       "<Figure size 432x288 with 1 Axes>"
      ]
     },
     "metadata": {
      "needs_background": "light"
     },
     "output_type": "display_data"
    }
   ],
   "source": [
    " "
   ]
  },
  {
   "cell_type": "code",
   "execution_count": null,
   "id": "b7fa2502",
   "metadata": {},
   "outputs": [],
   "source": []
  }
 ],
 "metadata": {
  "kernelspec": {
   "display_name": "Python 3 (ipykernel)",
   "language": "python",
   "name": "python3"
  },
  "language_info": {
   "codemirror_mode": {
    "name": "ipython",
    "version": 3
   },
   "file_extension": ".py",
   "mimetype": "text/x-python",
   "name": "python",
   "nbconvert_exporter": "python",
   "pygments_lexer": "ipython3",
   "version": "3.9.9"
  }
 },
 "nbformat": 4,
 "nbformat_minor": 5
}
