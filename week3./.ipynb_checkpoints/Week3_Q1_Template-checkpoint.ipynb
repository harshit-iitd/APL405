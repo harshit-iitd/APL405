{
 "cells": [
  {
   "cell_type": "code",
   "execution_count": 1,
   "id": "976cf8f2",
   "metadata": {},
   "outputs": [],
   "source": [
    "import numpy as np\n",
    "from scipy import optimize\n",
    "import pandas as pd\n",
    "from matplotlib import pyplot"
   ]
  },
  {
   "cell_type": "code",
   "execution_count": 2,
   "id": "6e892349",
   "metadata": {},
   "outputs": [],
   "source": [
    "class lr:\n",
    "    # Data cleaning and finding the mean of the column titled \"MaxTemp\"\n",
    "    def data_clean(self,data):\n",
    "        # 'data' is a dataframe imported from '.csv' file using 'pandas'\n",
    "        # Perform data cleaning steps sequentially as mentioned in assignment\n",
    "        data.loc[data[\"RainTomorrow\"]==\"No\",\"RainTomorrow\"]=0\n",
    "        data.loc[data[\"RainTomorrow\"]==\"Yes\",\"RainTomorrow\"]=1\n",
    "        feature_values = data.iloc[:,:data.shape[1]-1].copy()\n",
    "        predictions = data.iloc[:,data.shape[1]-1].copy()\n",
    "        feature_values = feature_values.select_dtypes(exclude=['object'])\n",
    "        a = feature_values.mean().copy()\n",
    "        b = round(predictions.mean().copy())\n",
    "        for i in range(0,feature_values.shape[1]):\n",
    "            feature_values.iloc[feature_values.iloc[:,i].isnull().values,i] = a[i]\n",
    "        predictions.iloc[predictions.isnull().values] = b\n",
    "        Min = feature_values.min().copy()\n",
    "        Max = feature_values.max().copy()\n",
    "        feature_values = (feature_values-Min)/(Max-Min)\n",
    "        mean = round(feature_values[\"MaxTemp\"].mean(),3)  \n",
    "        X = feature_values\n",
    "        y = predictions\n",
    "        y = y.astype('float64')\n",
    "    \n",
    "        return X, y, mean"
   ]
  },
  {
   "cell_type": "code",
   "execution_count": 3,
   "id": "a31fcbed",
   "metadata": {},
   "outputs": [],
   "source": [
    "class costing:\n",
    "    # define the function needed to evaluate cost function\n",
    "    # Input 'z' could be a scalar or a 1D vector\n",
    "    def sigmoid(self,z):\n",
    "        z = np.array(z)\n",
    "        g = 1.0/(1+ np.exp(-z))\n",
    "        \n",
    "        return g\n",
    "    \n",
    "    def costFunctionReg(self,w,X,y,lambda_):\n",
    "        m = X.shape[0]\n",
    "        h = self.sigmoid(np.matmul(X,w))\n",
    "        grad = np.matmul(np.transpose(h-y),X)\n",
    "        a = np.ones(w.shape[0])\n",
    "        a[0] = 0\n",
    "        grad+= (lambda_*(w*a))\n",
    "        grad = grad/m\n",
    "        J = np.sum((-y*np.log(h)-((1-y)*np.log(1-h)))) +((lambda_/(2))*np.dot(w,w))\n",
    "        J = J/m\n",
    "        return J, grad\n",
    "    \n",
    "    def predict(self,w,X):\n",
    "        p = np.round(self.sigmoid(np.matmul(X,w)))\n",
    "        return p\n",
    "    \n",
    "    def minCostFun(self, w_ini, X_train, y_train, iters):\n",
    "        print(X_train.shape)\n",
    "        # iters - Maximum no. of iterations; X_train - Numpy array\n",
    "        lambda_ = 0.1     # Regularization parameter\n",
    "        X_train = np.column_stack((np.ones(X_train.shape[0]),X_train))\n",
    "        options = {'maxiter':iters}\n",
    "        res = optimize.minimize(self.costFunctionReg,w_ini,\n",
    "                                (X_train, y_train,lambda_),jac = True,method = 'TNC',options=options)\n",
    "        \n",
    "        w_opt = res.x\n",
    "        y_pred = self.predict(w_opt,X_train)\n",
    "        acrcy = round(sum(y_pred == y_train)*100/y_train.shape[0],3)\n",
    "        return w_opt, acrcy\n",
    "    \n",
    "    def TestingAccu(self, w_opt, X_test, y_test):\n",
    "        X_test = np.column_stack((np.ones(X_test.shape[0]),X_test))\n",
    "        pred = self.predict(w_opt,X_test)\n",
    "        \n",
    "        acrcy_test = round(sum(pred == y_test)*100/y_test.shape[0],3)    # Testing set accuracy (in %) rounded off to 3 decimal places\n",
    "        \n",
    "        return acrcy_test\n"
   ]
  },
  {
   "cell_type": "code",
   "execution_count": 4,
   "id": "b2c51cdb",
   "metadata": {},
   "outputs": [],
   "source": [
    "X_train = pd.read_csv(\"weather_train.csv\")\n",
    "X_test = pd.read_csv(\"weather_test.csv\") \n",
    "frames = [X_train, X_test] \n",
    "result = pd.concat(frames)"
   ]
  },
  {
   "cell_type": "code",
   "execution_count": 5,
   "id": "bc5656b0",
   "metadata": {},
   "outputs": [],
   "source": [
    "l = lr()\n",
    "X,y,mean = l.data_clean(X_train)"
   ]
  },
  {
   "cell_type": "code",
   "execution_count": 6,
   "id": "c4de336a",
   "metadata": {},
   "outputs": [],
   "source": [
    "X = X[:X_train.shape[0]]\n",
    "y = y[:X_train.shape[0]]"
   ]
  },
  {
   "cell_type": "code",
   "execution_count": 7,
   "id": "c3f298d0",
   "metadata": {},
   "outputs": [
    {
     "data": {
      "text/plain": [
       "(52062,)"
      ]
     },
     "execution_count": 7,
     "metadata": {},
     "output_type": "execute_result"
    }
   ],
   "source": [
    "y.shape"
   ]
  },
  {
   "cell_type": "code",
   "execution_count": 8,
   "id": "de48e723",
   "metadata": {},
   "outputs": [],
   "source": [
    "c = costing()"
   ]
  },
  {
   "cell_type": "code",
   "execution_count": 9,
   "id": "0f35b7d3",
   "metadata": {},
   "outputs": [],
   "source": [
    "w = np.zeros(17)"
   ]
  },
  {
   "cell_type": "code",
   "execution_count": 10,
   "id": "bef65435",
   "metadata": {},
   "outputs": [
    {
     "name": "stdout",
     "output_type": "stream",
     "text": [
      "(52062, 16)\n"
     ]
    },
    {
     "data": {
      "text/plain": [
       "(array([-5.55031931, -0.67655362,  0.9796488 ,  6.91570992,  1.69224597,\n",
       "        -1.59292595,  5.81780097,  1.03886036, -2.36435734,  1.1439674 ,\n",
       "         5.24896865,  5.08786753, -6.45280887,  0.23737079,  1.01655997,\n",
       "         0.04662966,  0.52797047]),\n",
       " 82.288)"
      ]
     },
     "execution_count": 10,
     "metadata": {},
     "output_type": "execute_result"
    }
   ],
   "source": [
    "c.minCostFun(w,X,y,40000)"
   ]
  },
  {
   "cell_type": "code",
   "execution_count": 11,
   "id": "29a8ebae",
   "metadata": {},
   "outputs": [
    {
     "data": {
      "text/html": [
       "<div>\n",
       "<style scoped>\n",
       "    .dataframe tbody tr th:only-of-type {\n",
       "        vertical-align: middle;\n",
       "    }\n",
       "\n",
       "    .dataframe tbody tr th {\n",
       "        vertical-align: top;\n",
       "    }\n",
       "\n",
       "    .dataframe thead th {\n",
       "        text-align: right;\n",
       "    }\n",
       "</style>\n",
       "<table border=\"1\" class=\"dataframe\">\n",
       "  <thead>\n",
       "    <tr style=\"text-align: right;\">\n",
       "      <th></th>\n",
       "      <th>MinTemp</th>\n",
       "      <th>MaxTemp</th>\n",
       "      <th>Rainfall</th>\n",
       "      <th>Evaporation</th>\n",
       "      <th>Sunshine</th>\n",
       "      <th>WindGustSpeed</th>\n",
       "      <th>WindSpeed9am</th>\n",
       "      <th>WindSpeed3pm</th>\n",
       "      <th>Humidity9am</th>\n",
       "      <th>Humidity3pm</th>\n",
       "      <th>Pressure9am</th>\n",
       "      <th>Pressure3pm</th>\n",
       "      <th>Cloud9am</th>\n",
       "      <th>Cloud3pm</th>\n",
       "      <th>Temp9am</th>\n",
       "      <th>Temp3pm</th>\n",
       "    </tr>\n",
       "  </thead>\n",
       "  <tbody>\n",
       "    <tr>\n",
       "      <th>0</th>\n",
       "      <td>0.569921</td>\n",
       "      <td>0.454139</td>\n",
       "      <td>0.001617</td>\n",
       "      <td>0.038129</td>\n",
       "      <td>0.536788</td>\n",
       "      <td>0.289062</td>\n",
       "      <td>0.153846</td>\n",
       "      <td>0.289157</td>\n",
       "      <td>0.701031</td>\n",
       "      <td>0.212121</td>\n",
       "      <td>0.452579</td>\n",
       "      <td>0.477080</td>\n",
       "      <td>0.888889</td>\n",
       "      <td>0.560902</td>\n",
       "      <td>0.490196</td>\n",
       "      <td>0.439189</td>\n",
       "    </tr>\n",
       "    <tr>\n",
       "      <th>1</th>\n",
       "      <td>0.411609</td>\n",
       "      <td>0.503356</td>\n",
       "      <td>0.000000</td>\n",
       "      <td>0.038129</td>\n",
       "      <td>0.536788</td>\n",
       "      <td>0.289062</td>\n",
       "      <td>0.030769</td>\n",
       "      <td>0.265060</td>\n",
       "      <td>0.422680</td>\n",
       "      <td>0.242424</td>\n",
       "      <td>0.500832</td>\n",
       "      <td>0.488964</td>\n",
       "      <td>0.492462</td>\n",
       "      <td>0.560902</td>\n",
       "      <td>0.497549</td>\n",
       "      <td>0.495495</td>\n",
       "    </tr>\n",
       "    <tr>\n",
       "      <th>2</th>\n",
       "      <td>0.556728</td>\n",
       "      <td>0.516779</td>\n",
       "      <td>0.000000</td>\n",
       "      <td>0.038129</td>\n",
       "      <td>0.536788</td>\n",
       "      <td>0.304688</td>\n",
       "      <td>0.146154</td>\n",
       "      <td>0.313253</td>\n",
       "      <td>0.360825</td>\n",
       "      <td>0.292929</td>\n",
       "      <td>0.450915</td>\n",
       "      <td>0.504244</td>\n",
       "      <td>0.492462</td>\n",
       "      <td>0.250000</td>\n",
       "      <td>0.590686</td>\n",
       "      <td>0.470721</td>\n",
       "    </tr>\n",
       "    <tr>\n",
       "      <th>3</th>\n",
       "      <td>0.459103</td>\n",
       "      <td>0.568233</td>\n",
       "      <td>0.000000</td>\n",
       "      <td>0.038129</td>\n",
       "      <td>0.536788</td>\n",
       "      <td>0.132812</td>\n",
       "      <td>0.084615</td>\n",
       "      <td>0.108434</td>\n",
       "      <td>0.432990</td>\n",
       "      <td>0.151515</td>\n",
       "      <td>0.617304</td>\n",
       "      <td>0.573854</td>\n",
       "      <td>0.492462</td>\n",
       "      <td>0.560902</td>\n",
       "      <td>0.519608</td>\n",
       "      <td>0.545045</td>\n",
       "    </tr>\n",
       "    <tr>\n",
       "      <th>4</th>\n",
       "      <td>0.678100</td>\n",
       "      <td>0.664430</td>\n",
       "      <td>0.002695</td>\n",
       "      <td>0.038129</td>\n",
       "      <td>0.536788</td>\n",
       "      <td>0.265625</td>\n",
       "      <td>0.053846</td>\n",
       "      <td>0.240964</td>\n",
       "      <td>0.814433</td>\n",
       "      <td>0.323232</td>\n",
       "      <td>0.504160</td>\n",
       "      <td>0.458404</td>\n",
       "      <td>0.777778</td>\n",
       "      <td>1.000000</td>\n",
       "      <td>0.512255</td>\n",
       "      <td>0.617117</td>\n",
       "    </tr>\n",
       "    <tr>\n",
       "      <th>...</th>\n",
       "      <td>...</td>\n",
       "      <td>...</td>\n",
       "      <td>...</td>\n",
       "      <td>...</td>\n",
       "      <td>...</td>\n",
       "      <td>...</td>\n",
       "      <td>...</td>\n",
       "      <td>...</td>\n",
       "      <td>...</td>\n",
       "      <td>...</td>\n",
       "      <td>...</td>\n",
       "      <td>...</td>\n",
       "      <td>...</td>\n",
       "      <td>...</td>\n",
       "      <td>...</td>\n",
       "      <td>...</td>\n",
       "    </tr>\n",
       "    <tr>\n",
       "      <th>52057</th>\n",
       "      <td>0.184697</td>\n",
       "      <td>0.279642</td>\n",
       "      <td>0.001078</td>\n",
       "      <td>0.038129</td>\n",
       "      <td>0.536788</td>\n",
       "      <td>0.062500</td>\n",
       "      <td>0.000000</td>\n",
       "      <td>0.084337</td>\n",
       "      <td>1.000000</td>\n",
       "      <td>0.373737</td>\n",
       "      <td>0.803661</td>\n",
       "      <td>0.803056</td>\n",
       "      <td>0.492462</td>\n",
       "      <td>0.560902</td>\n",
       "      <td>0.066176</td>\n",
       "      <td>0.279279</td>\n",
       "    </tr>\n",
       "    <tr>\n",
       "      <th>52058</th>\n",
       "      <td>0.205805</td>\n",
       "      <td>0.255034</td>\n",
       "      <td>0.000000</td>\n",
       "      <td>0.038129</td>\n",
       "      <td>0.536788</td>\n",
       "      <td>0.132812</td>\n",
       "      <td>0.000000</td>\n",
       "      <td>0.180723</td>\n",
       "      <td>0.824742</td>\n",
       "      <td>0.434343</td>\n",
       "      <td>0.815308</td>\n",
       "      <td>0.780985</td>\n",
       "      <td>0.492462</td>\n",
       "      <td>0.560902</td>\n",
       "      <td>0.223039</td>\n",
       "      <td>0.243243</td>\n",
       "    </tr>\n",
       "    <tr>\n",
       "      <th>52059</th>\n",
       "      <td>0.124011</td>\n",
       "      <td>0.241611</td>\n",
       "      <td>0.000000</td>\n",
       "      <td>0.038129</td>\n",
       "      <td>0.536788</td>\n",
       "      <td>0.203125</td>\n",
       "      <td>0.046154</td>\n",
       "      <td>0.156627</td>\n",
       "      <td>1.000000</td>\n",
       "      <td>0.373737</td>\n",
       "      <td>0.690516</td>\n",
       "      <td>0.629881</td>\n",
       "      <td>0.492462</td>\n",
       "      <td>0.560902</td>\n",
       "      <td>0.078431</td>\n",
       "      <td>0.238739</td>\n",
       "    </tr>\n",
       "    <tr>\n",
       "      <th>52060</th>\n",
       "      <td>0.218997</td>\n",
       "      <td>0.266219</td>\n",
       "      <td>0.000000</td>\n",
       "      <td>0.038129</td>\n",
       "      <td>0.536788</td>\n",
       "      <td>0.218750</td>\n",
       "      <td>0.069231</td>\n",
       "      <td>0.204819</td>\n",
       "      <td>0.628866</td>\n",
       "      <td>0.424242</td>\n",
       "      <td>0.608985</td>\n",
       "      <td>0.617997</td>\n",
       "      <td>0.492462</td>\n",
       "      <td>0.560902</td>\n",
       "      <td>0.308824</td>\n",
       "      <td>0.243243</td>\n",
       "    </tr>\n",
       "    <tr>\n",
       "      <th>52061</th>\n",
       "      <td>0.063325</td>\n",
       "      <td>0.263982</td>\n",
       "      <td>0.000000</td>\n",
       "      <td>0.038129</td>\n",
       "      <td>0.536788</td>\n",
       "      <td>0.281250</td>\n",
       "      <td>0.015385</td>\n",
       "      <td>0.228916</td>\n",
       "      <td>0.855670</td>\n",
       "      <td>0.484848</td>\n",
       "      <td>0.632280</td>\n",
       "      <td>0.628183</td>\n",
       "      <td>0.492462</td>\n",
       "      <td>0.560902</td>\n",
       "      <td>0.063725</td>\n",
       "      <td>0.202703</td>\n",
       "    </tr>\n",
       "  </tbody>\n",
       "</table>\n",
       "<p>52062 rows × 16 columns</p>\n",
       "</div>"
      ],
      "text/plain": [
       "        MinTemp   MaxTemp  Rainfall  Evaporation  Sunshine  WindGustSpeed  \\\n",
       "0      0.569921  0.454139  0.001617     0.038129  0.536788       0.289062   \n",
       "1      0.411609  0.503356  0.000000     0.038129  0.536788       0.289062   \n",
       "2      0.556728  0.516779  0.000000     0.038129  0.536788       0.304688   \n",
       "3      0.459103  0.568233  0.000000     0.038129  0.536788       0.132812   \n",
       "4      0.678100  0.664430  0.002695     0.038129  0.536788       0.265625   \n",
       "...         ...       ...       ...          ...       ...            ...   \n",
       "52057  0.184697  0.279642  0.001078     0.038129  0.536788       0.062500   \n",
       "52058  0.205805  0.255034  0.000000     0.038129  0.536788       0.132812   \n",
       "52059  0.124011  0.241611  0.000000     0.038129  0.536788       0.203125   \n",
       "52060  0.218997  0.266219  0.000000     0.038129  0.536788       0.218750   \n",
       "52061  0.063325  0.263982  0.000000     0.038129  0.536788       0.281250   \n",
       "\n",
       "       WindSpeed9am  WindSpeed3pm  Humidity9am  Humidity3pm  Pressure9am  \\\n",
       "0          0.153846      0.289157     0.701031     0.212121     0.452579   \n",
       "1          0.030769      0.265060     0.422680     0.242424     0.500832   \n",
       "2          0.146154      0.313253     0.360825     0.292929     0.450915   \n",
       "3          0.084615      0.108434     0.432990     0.151515     0.617304   \n",
       "4          0.053846      0.240964     0.814433     0.323232     0.504160   \n",
       "...             ...           ...          ...          ...          ...   \n",
       "52057      0.000000      0.084337     1.000000     0.373737     0.803661   \n",
       "52058      0.000000      0.180723     0.824742     0.434343     0.815308   \n",
       "52059      0.046154      0.156627     1.000000     0.373737     0.690516   \n",
       "52060      0.069231      0.204819     0.628866     0.424242     0.608985   \n",
       "52061      0.015385      0.228916     0.855670     0.484848     0.632280   \n",
       "\n",
       "       Pressure3pm  Cloud9am  Cloud3pm   Temp9am   Temp3pm  \n",
       "0         0.477080  0.888889  0.560902  0.490196  0.439189  \n",
       "1         0.488964  0.492462  0.560902  0.497549  0.495495  \n",
       "2         0.504244  0.492462  0.250000  0.590686  0.470721  \n",
       "3         0.573854  0.492462  0.560902  0.519608  0.545045  \n",
       "4         0.458404  0.777778  1.000000  0.512255  0.617117  \n",
       "...            ...       ...       ...       ...       ...  \n",
       "52057     0.803056  0.492462  0.560902  0.066176  0.279279  \n",
       "52058     0.780985  0.492462  0.560902  0.223039  0.243243  \n",
       "52059     0.629881  0.492462  0.560902  0.078431  0.238739  \n",
       "52060     0.617997  0.492462  0.560902  0.308824  0.243243  \n",
       "52061     0.628183  0.492462  0.560902  0.063725  0.202703  \n",
       "\n",
       "[52062 rows x 16 columns]"
      ]
     },
     "execution_count": 11,
     "metadata": {},
     "output_type": "execute_result"
    }
   ],
   "source": [
    "X"
   ]
  },
  {
   "cell_type": "code",
   "execution_count": 171,
   "id": "9c7bf9af",
   "metadata": {},
   "outputs": [],
   "source": [
    "data = np. loadtxt (('nonLinearClass.txt'), delimiter=',')\n",
    "X, y = data[:,:2], data[:,2]"
   ]
  },
  {
   "cell_type": "code",
   "execution_count": 172,
   "id": "ae974ac1",
   "metadata": {},
   "outputs": [],
   "source": [
    "def plotData(X,y):\n",
    "# Create new figure\n",
    "    fig = pyplot.figure()\n",
    "    pos = y==1\n",
    "    neg = y==0\n",
    "    pyplot.plot (X[pos, 0], X[pos,1],'k*', lw = 2, ms=10)\n",
    "    pyplot.plot (X[neg, 0], X[neg, 1],'ko',mfc='y')"
   ]
  },
  {
   "cell_type": "code",
   "execution_count": 173,
   "id": "3306c07d",
   "metadata": {},
   "outputs": [
    {
     "data": {
      "text/plain": [
       "<matplotlib.legend.Legend at 0x153959a90>"
      ]
     },
     "execution_count": 173,
     "metadata": {},
     "output_type": "execute_result"
    },
    {
     "data": {
      "image/png": "[encoded data removed]",
      "text/plain": [
       "<Figure size 432x288 with 1 Axes>"
      ]
     },
     "metadata": {
      "needs_background": "light"
     },
     "output_type": "display_data"
    }
   ],
   "source": [
    "plotData(X,y)\n",
    "pyplot.xlabel('Microchip Test 1')\n",
    "pyplot.ylabel('Microchip Test 2')\n",
    "pyplot.legend(['y = 1', 'y = 0'], loc='upper right')"
   ]
  },
  {
   "cell_type": "code",
   "execution_count": 174,
   "id": "d31f8770",
   "metadata": {},
   "outputs": [],
   "source": [
    "def mapFeature(X1, X2, degree):\n",
    "    X1 = np.array(X1)\n",
    "    X2 = np.array(X2)\n",
    "    n = X1.shape[0]\n",
    "    out = np.ones(n)\n",
    "    for i in range(1,degree+1):\n",
    "        for j in range(0,i+1):\n",
    "            out = np.column_stack((out,(np.power(X1,i-j)*np.power(X2,j))))\n",
    "    return out"
   ]
  },
  {
   "cell_type": "code",
   "execution_count": 175,
   "id": "75349e80",
   "metadata": {},
   "outputs": [
    {
     "data": {
      "text/plain": [
       "array([7, 4, 9])"
      ]
     },
     "execution_count": 175,
     "metadata": {},
     "output_type": "execute_result"
    }
   ],
   "source": [
    "a = np.array([1,2,3])\n",
    "a*np.array([7,2,3])"
   ]
  },
  {
   "cell_type": "code",
   "execution_count": 176,
   "id": "6a55599a",
   "metadata": {},
   "outputs": [],
   "source": [
    "X = mapFeature(X[:,0],X[:,1],6)"
   ]
  },
  {
   "cell_type": "code",
   "execution_count": 177,
   "id": "8be8cc16",
   "metadata": {},
   "outputs": [
    {
     "data": {
      "text/plain": [
       "(118, 28)"
      ]
     },
     "execution_count": 177,
     "metadata": {},
     "output_type": "execute_result"
    }
   ],
   "source": [
    "X.shape"
   ]
  },
  {
   "cell_type": "code",
   "execution_count": 178,
   "id": "9e04948b",
   "metadata": {},
   "outputs": [],
   "source": [
    "class costing_micro:\n",
    "    # define the function needed to evaluate cost function\n",
    "    # Input 'z' could be a scalar or a 1D vector\n",
    "    def sigmoid(self,z):\n",
    "        z = np.array(z)\n",
    "        g = 1.0/(1+ np.exp(-z))\n",
    "        \n",
    "        return g\n",
    "    \n",
    "    def costFunctionReg(self,w,X,y,lambda_):\n",
    "        m = X.shape[0]\n",
    "        h = self.sigmoid(np.matmul(X,w))\n",
    "        grad = np.matmul(np.transpose(h-y),X)\n",
    "        a = np.ones(w.shape[0])\n",
    "        a[0] = 0\n",
    "        grad+= (lambda_*(w*a))\n",
    "        grad = grad/m\n",
    "        J = np.sum((-y*np.log(h)-((1-y)*np.log(1-h)))) +((lambda_/(2))*np.dot(w,w))\n",
    "        J = J/m\n",
    "        return J, grad\n",
    "    \n",
    "    def predict(self,w,X):\n",
    "        p = np.round(self.sigmoid(np.matmul(X,w)))\n",
    "        return p\n",
    "    \n",
    "    def minCostFun(self, w_ini, X_train, y_train, iters,lambda_):\n",
    "        options = {'maxiter':iters}\n",
    "        res = optimize.minimize(self.costFunctionReg,w_ini,\n",
    "                                (X_train, y_train,lambda_),jac = True,method = 'TNC',options=options)\n",
    "        \n",
    "        w_opt = res.x\n",
    "        y_pred = self.predict(w_opt,X_train)\n",
    "        acrcy = round(sum(y_pred == y_train)*100/y_train.shape[0],3)\n",
    "        return w_opt, acrcy\n",
    "    \n",
    "    def TestingAccu(self, w_opt, X_test, y_test):\n",
    "        X_test = np.column_stack((np.ones(X_test.shape[0]),X_test))\n",
    "        pred = self.predict(w_opt,X_test)\n",
    "        \n",
    "        acrcy_test = round(sum(pred == y_test)*100/y_test.shape[0],3)    # Testing set accuracy (in %) rounded off to 3 decimal places\n",
    "        \n",
    "        return acrcy_test\n"
   ]
  },
  {
   "cell_type": "code",
   "execution_count": 179,
   "id": "8d251bf2",
   "metadata": {},
   "outputs": [],
   "source": [
    "cm = costing_micro()"
   ]
  },
  {
   "cell_type": "code",
   "execution_count": 180,
   "id": "63c54b5e",
   "metadata": {},
   "outputs": [
    {
     "name": "stdout",
     "output_type": "stream",
     "text": [
      "Cost at initial w (zeros): 0.693\n",
      "Expected cost (approx) :  0.693 \n",
      "\n",
      "Gradient at initial w (zeros) - first five values only:\n",
      "\t[0.0085, 0.0188, 0.0001, 0.0503, 0.0115]\n",
      "Expected gradient (approx) - first five values only:\n",
      "\t[0.0085, 0.0188, 0.0001, 0.0503, 0.0115]\n",
      "\n"
     ]
    }
   ],
   "source": [
    "# Initialize fitting parameters\n",
    "initial_w = np.zeros(X.shape[1])\n",
    "\n",
    "lambda_ = 1\n",
    "\n",
    "# Compute and display initial cost and gradient for regularized logistic\n",
    "cost, grad = c.costFunctionReg(initial_w, X, y, lambda_)\n",
    "\n",
    "print('Cost at initial w (zeros): {:.3f}'.format(cost))\n",
    "print('Expected cost (approx) :  0.693 \\n')\n",
    "print('Gradient at initial w (zeros) - first five values only:')\n",
    "print('\\t[{:.4f}, {:.4f}, {:.4f}, {:.4f}, {:.4f}]'.format(*grad[:5]))\n",
    "print('Expected gradient (approx) - first five values only:')\n",
    "print('\\t[0.0085, 0.0188, 0.0001, 0.0503, 0.0115]\\n')"
   ]
  },
  {
   "cell_type": "code",
   "execution_count": 183,
   "id": "583e8de9",
   "metadata": {},
   "outputs": [],
   "source": [
    "# Initialize fitting parameters\n",
    "initial_w = np.zeros(X.shape[1])\n",
    "\n",
    "# Set regularization parameter\n",
    "lambda_ = 1 # Values: 0, 1 and 100\n",
    "\n",
    "w,p = cm.minCostFun(initial_w,X,y,10000,lambda_)"
   ]
  },
  {
   "cell_type": "code",
   "execution_count": 184,
   "id": "34346f0f",
   "metadata": {},
   "outputs": [
    {
     "name": "stdout",
     "output_type": "stream",
     "text": [
      "[[ -8.78806453  -8.14982266  -7.59653349 ... -19.25321587 -22.25959062\n",
      "  -25.73653248]\n",
      " [ -7.9611671   -7.33334026  -6.78943148 ... -18.21483931 -21.19793785\n",
      "  -24.65056789]\n",
      " [ -7.24656537  -6.62837157  -6.09314199 ... -17.3269577  -20.29016382\n",
      "  -23.72206652]\n",
      " ...\n",
      " [-20.15692921 -19.43413833 -18.81149208 ... -48.31139578 -52.98198346\n",
      "  -58.26504457]\n",
      " [-23.40761082 -22.66318014 -22.02117556 ... -52.780998   -57.56507661\n",
      "  -62.96935522]\n",
      " [-27.16340478 -26.39552911 -25.73251536 ... -57.82253937 -62.72573989\n",
      "  -68.25713305]]\n"
     ]
    },
    {
     "data": {
      "text/plain": [
       "Text(0.5, 1.0, 'lambda = 1.00')"
      ]
     },
     "execution_count": 184,
     "metadata": {},
     "output_type": "execute_result"
    },
    {
     "data": {
      "image/png": "[encoded data removed]",
      "text/plain": [
       "<Figure size 432x288 with 1 Axes>"
      ]
     },
     "metadata": {
      "needs_background": "light"
     },
     "output_type": "display_data"
    }
   ],
   "source": [
    "# Plot Boundary\n",
    "w = np.array(w)\n",
    "\n",
    "# Plot Data (remember first column in X is the intercept)\n",
    "plotData(X[:, 1:3], y)\n",
    "\n",
    "# Here is the grid range\n",
    "u = np.linspace(-1, 1.5, 50) # 1D array from -1 to 1.5 based on the limits of data\n",
    "v = np.linspace(-1, 1.5, 50)\n",
    "\n",
    "z = np.zeros((u.size, v.size))\n",
    "# Evaluate z = w*x over the grid\n",
    "for i, ui in enumerate(u):\n",
    "    for j, vj in enumerate(v):\n",
    "        z[i, j] = np.dot(mapFeature([ui], [vj],6)[0], w)\n",
    "print(z)\n",
    "z = z.T\n",
    "    \n",
    "pyplot.contour(u, v, z, levels=[0], linewidths=2, colors='g') # Plots contour lines\n",
    "pyplot.contourf(u, v, z, levels=[np.min(z), 0, np.max(z)], cmap='Greens', alpha=0.4) # Plots filled contours\n",
    "    \n",
    "pyplot.xlabel('Microchip Test 1')\n",
    "pyplot.ylabel('Microchip Test 2')\n",
    "pyplot.legend(['y = 1', 'y = 0'])\n",
    "pyplot.grid(False)\n",
    "pyplot.title('lambda = %0.2f' % lambda_)"
   ]
  },
  {
   "cell_type": "code",
   "execution_count": null,
   "id": "672797d6",
   "metadata": {},
   "outputs": [],
   "source": []
  }
 ],
 "metadata": {
  "kernelspec": {
   "display_name": "Python 3 (ipykernel)",
   "language": "python",
   "name": "python3"
  },
  "language_info": {
   "codemirror_mode": {
    "name": "ipython",
    "version": 3
   },
   "file_extension": ".py",
   "mimetype": "text/x-python",
   "name": "python",
   "nbconvert_exporter": "python",
   "pygments_lexer": "ipython3",
   "version": "3.9.9"
  }
 },
 "nbformat": 4,
 "nbformat_minor": 5
}
